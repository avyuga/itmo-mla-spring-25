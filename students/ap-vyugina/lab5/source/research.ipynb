{
 "cells": [
  {
   "cell_type": "code",
   "execution_count": 1,
   "metadata": {},
   "outputs": [],
   "source": [
    "%reload_ext autoreload\n",
    "%autoreload 2"
   ]
  },
  {
   "cell_type": "code",
   "execution_count": 2,
   "metadata": {},
   "outputs": [],
   "source": [
    "import pandas as pd\n",
    "from sklearn.model_selection import train_test_split\n",
    "\n",
    "import numpy as np\n",
    "import matplotlib.pyplot as plt\n",
    "from datetime import datetime as time\n"
   ]
  },
  {
   "cell_type": "code",
   "execution_count": 3,
   "metadata": {},
   "outputs": [
    {
     "data": {
      "text/html": [
       "<div>\n",
       "<style scoped>\n",
       "    .dataframe tbody tr th:only-of-type {\n",
       "        vertical-align: middle;\n",
       "    }\n",
       "\n",
       "    .dataframe tbody tr th {\n",
       "        vertical-align: top;\n",
       "    }\n",
       "\n",
       "    .dataframe thead th {\n",
       "        text-align: right;\n",
       "    }\n",
       "</style>\n",
       "<table border=\"1\" class=\"dataframe\">\n",
       "  <thead>\n",
       "    <tr style=\"text-align: right;\">\n",
       "      <th></th>\n",
       "      <th>userId</th>\n",
       "      <th>movieId</th>\n",
       "      <th>rating</th>\n",
       "      <th>timestamp</th>\n",
       "    </tr>\n",
       "  </thead>\n",
       "  <tbody>\n",
       "    <tr>\n",
       "      <th>0</th>\n",
       "      <td>1</td>\n",
       "      <td>3</td>\n",
       "      <td>4.0</td>\n",
       "      <td>964981247</td>\n",
       "    </tr>\n",
       "    <tr>\n",
       "      <th>1</th>\n",
       "      <td>1</td>\n",
       "      <td>6</td>\n",
       "      <td>4.0</td>\n",
       "      <td>964982224</td>\n",
       "    </tr>\n",
       "    <tr>\n",
       "      <th>2</th>\n",
       "      <td>1</td>\n",
       "      <td>47</td>\n",
       "      <td>5.0</td>\n",
       "      <td>964983815</td>\n",
       "    </tr>\n",
       "    <tr>\n",
       "      <th>3</th>\n",
       "      <td>1</td>\n",
       "      <td>50</td>\n",
       "      <td>5.0</td>\n",
       "      <td>964982931</td>\n",
       "    </tr>\n",
       "    <tr>\n",
       "      <th>4</th>\n",
       "      <td>1</td>\n",
       "      <td>70</td>\n",
       "      <td>3.0</td>\n",
       "      <td>964982400</td>\n",
       "    </tr>\n",
       "  </tbody>\n",
       "</table>\n",
       "</div>"
      ],
      "text/plain": [
       "   userId  movieId  rating  timestamp\n",
       "0       1        3     4.0  964981247\n",
       "1       1        6     4.0  964982224\n",
       "2       1       47     5.0  964983815\n",
       "3       1       50     5.0  964982931\n",
       "4       1       70     3.0  964982400"
      ]
     },
     "execution_count": 3,
     "metadata": {},
     "output_type": "execute_result"
    }
   ],
   "source": [
    "data = pd.read_csv(\"../assets/ratings.csv\") # https://grouplens.org/datasets/movielens/\n",
    "data.columns = [\"userId\", \"movieId\", \"rating\", \"timestamp\"]\n",
    "data.head()"
   ]
  },
  {
   "cell_type": "code",
   "execution_count": 4,
   "metadata": {},
   "outputs": [
    {
     "name": "stdout",
     "output_type": "stream",
     "text": [
      "True\n",
      "False\n"
     ]
    }
   ],
   "source": [
    "# проверка, можно ли использовать идентификаторы как индексы\n",
    "print(np.all(data['userId'].unique() == np.arange(1, len(data['userId'].unique())+1))) # можно, но если сделать -1\n",
    "print(np.all(data['movieId'].unique() == np.arange(1, len(data['movieId'].unique())+1))) # нельзя\n"
   ]
  },
  {
   "cell_type": "code",
   "execution_count": 5,
   "metadata": {},
   "outputs": [
    {
     "data": {
      "text/plain": [
       "((85709, 6), (15126, 6))"
      ]
     },
     "execution_count": 5,
     "metadata": {},
     "output_type": "execute_result"
    }
   ],
   "source": [
    "data['userIdx'] = data['userId'] - 1\n",
    "\n",
    "movie_id2idx = {id_: idx for idx, id_ in enumerate(sorted(data['movieId'].unique()))}\n",
    "data['movieIdx'] = data['movieId'].map(movie_id2idx)\n",
    "\n",
    "data_train, data_test = train_test_split(data, test_size=0.15, random_state=0)\n",
    "data_train.shape, data_test.shape"
   ]
  },
  {
   "cell_type": "code",
   "execution_count": 6,
   "metadata": {},
   "outputs": [],
   "source": [
    "from lfm import LFM\n",
    "\n",
    "model = LFM(\n",
    "    n_clients=len(data['userIdx'].unique()),\n",
    "    n_objects=len(data['movieIdx'].unique()),\n",
    "    n_factors=10,\n",
    "    lr=0.01,\n",
    "    reg=0.01,\n",
    "    rating_interval=(0, 5)\n",
    ")\n"
   ]
  },
  {
   "cell_type": "code",
   "execution_count": 7,
   "metadata": {},
   "outputs": [
    {
     "name": "stderr",
     "output_type": "stream",
     "text": [
      "Epoch 1:   0%|          | 0/85709 [00:00<?, ?it/s]"
     ]
    },
    {
     "name": "stderr",
     "output_type": "stream",
     "text": [
      "Epoch 1: 100%|██████████| 85709/85709 [00:05<00:00, 14698.95it/s]\n"
     ]
    },
    {
     "name": "stdout",
     "output_type": "stream",
     "text": [
      "Train | RMSE=1.595 | MAE=1.253 ||| Test | RMSE=1.762 | MAE=1.361\n"
     ]
    },
    {
     "name": "stderr",
     "output_type": "stream",
     "text": [
      "Epoch 2: 100%|██████████| 85709/85709 [00:05<00:00, 16028.98it/s]\n"
     ]
    },
    {
     "name": "stdout",
     "output_type": "stream",
     "text": [
      "Train | RMSE=1.324 | MAE=1.037 ||| Test | RMSE=1.509 | MAE=1.161\n"
     ]
    },
    {
     "name": "stderr",
     "output_type": "stream",
     "text": [
      "Epoch 3: 100%|██████████| 85709/85709 [00:05<00:00, 16144.84it/s]\n"
     ]
    },
    {
     "name": "stdout",
     "output_type": "stream",
     "text": [
      "Train | RMSE=1.198 | MAE=0.934 ||| Test | RMSE=1.393 | MAE=1.068\n"
     ]
    },
    {
     "name": "stderr",
     "output_type": "stream",
     "text": [
      "Epoch 4: 100%|██████████| 85709/85709 [00:05<00:00, 14821.74it/s]\n"
     ]
    },
    {
     "name": "stdout",
     "output_type": "stream",
     "text": [
      "Train | RMSE=1.120 | MAE=0.868 ||| Test | RMSE=1.318 | MAE=1.006\n"
     ]
    },
    {
     "name": "stderr",
     "output_type": "stream",
     "text": [
      "Epoch 5: 100%|██████████| 85709/85709 [00:06<00:00, 13808.09it/s]\n"
     ]
    },
    {
     "name": "stdout",
     "output_type": "stream",
     "text": [
      "Train | RMSE=1.069 | MAE=0.826 ||| Test | RMSE=1.271 | MAE=0.966\n"
     ]
    },
    {
     "name": "stderr",
     "output_type": "stream",
     "text": [
      "Epoch 6: 100%|██████████| 85709/85709 [00:06<00:00, 14208.71it/s]\n"
     ]
    },
    {
     "name": "stdout",
     "output_type": "stream",
     "text": [
      "Train | RMSE=1.030 | MAE=0.795 ||| Test | RMSE=1.234 | MAE=0.936\n"
     ]
    },
    {
     "name": "stderr",
     "output_type": "stream",
     "text": [
      "Epoch 7: 100%|██████████| 85709/85709 [00:06<00:00, 13646.96it/s]\n"
     ]
    },
    {
     "name": "stdout",
     "output_type": "stream",
     "text": [
      "Train | RMSE=0.999 | MAE=0.768 ||| Test | RMSE=1.209 | MAE=0.915\n"
     ]
    },
    {
     "name": "stderr",
     "output_type": "stream",
     "text": [
      "Epoch 8: 100%|██████████| 85709/85709 [00:06<00:00, 14162.59it/s]\n"
     ]
    },
    {
     "name": "stdout",
     "output_type": "stream",
     "text": [
      "Train | RMSE=0.974 | MAE=0.749 ||| Test | RMSE=1.187 | MAE=0.898\n"
     ]
    },
    {
     "name": "stderr",
     "output_type": "stream",
     "text": [
      "Epoch 9: 100%|██████████| 85709/85709 [00:06<00:00, 13921.12it/s]\n"
     ]
    },
    {
     "name": "stdout",
     "output_type": "stream",
     "text": [
      "Train | RMSE=0.953 | MAE=0.732 ||| Test | RMSE=1.170 | MAE=0.883\n"
     ]
    },
    {
     "name": "stderr",
     "output_type": "stream",
     "text": [
      "Epoch 10: 100%|██████████| 85709/85709 [00:06<00:00, 13280.85it/s]\n"
     ]
    },
    {
     "name": "stdout",
     "output_type": "stream",
     "text": [
      "Train | RMSE=0.935 | MAE=0.718 ||| Test | RMSE=1.158 | MAE=0.874\n"
     ]
    },
    {
     "name": "stderr",
     "output_type": "stream",
     "text": [
      "Epoch 11: 100%|██████████| 85709/85709 [00:05<00:00, 14285.69it/s]\n"
     ]
    },
    {
     "name": "stdout",
     "output_type": "stream",
     "text": [
      "Train | RMSE=0.920 | MAE=0.707 ||| Test | RMSE=1.146 | MAE=0.864\n"
     ]
    },
    {
     "name": "stderr",
     "output_type": "stream",
     "text": [
      "Epoch 12: 100%|██████████| 85709/85709 [00:05<00:00, 14308.43it/s]\n"
     ]
    },
    {
     "name": "stdout",
     "output_type": "stream",
     "text": [
      "Train | RMSE=0.908 | MAE=0.696 ||| Test | RMSE=1.134 | MAE=0.854\n"
     ]
    },
    {
     "name": "stderr",
     "output_type": "stream",
     "text": [
      "Epoch 13: 100%|██████████| 85709/85709 [00:06<00:00, 13897.33it/s]\n"
     ]
    },
    {
     "name": "stdout",
     "output_type": "stream",
     "text": [
      "Train | RMSE=0.896 | MAE=0.687 ||| Test | RMSE=1.128 | MAE=0.848\n"
     ]
    },
    {
     "name": "stderr",
     "output_type": "stream",
     "text": [
      "Epoch 14: 100%|██████████| 85709/85709 [00:05<00:00, 14354.22it/s]\n"
     ]
    },
    {
     "name": "stdout",
     "output_type": "stream",
     "text": [
      "Train | RMSE=0.884 | MAE=0.679 ||| Test | RMSE=1.122 | MAE=0.843\n"
     ]
    },
    {
     "name": "stderr",
     "output_type": "stream",
     "text": [
      "Epoch 15: 100%|██████████| 85709/85709 [00:05<00:00, 14511.77it/s]\n"
     ]
    },
    {
     "name": "stdout",
     "output_type": "stream",
     "text": [
      "Train | RMSE=0.874 | MAE=0.671 ||| Test | RMSE=1.114 | MAE=0.837\n"
     ]
    },
    {
     "name": "stderr",
     "output_type": "stream",
     "text": [
      "Epoch 16: 100%|██████████| 85709/85709 [00:06<00:00, 13747.61it/s]\n"
     ]
    },
    {
     "name": "stdout",
     "output_type": "stream",
     "text": [
      "Train | RMSE=0.864 | MAE=0.663 ||| Test | RMSE=1.107 | MAE=0.831\n"
     ]
    },
    {
     "name": "stderr",
     "output_type": "stream",
     "text": [
      "Epoch 17: 100%|██████████| 85709/85709 [00:05<00:00, 14316.83it/s]\n"
     ]
    },
    {
     "name": "stdout",
     "output_type": "stream",
     "text": [
      "Train | RMSE=0.858 | MAE=0.658 ||| Test | RMSE=1.106 | MAE=0.830\n"
     ]
    },
    {
     "name": "stderr",
     "output_type": "stream",
     "text": [
      "Epoch 18: 100%|██████████| 85709/85709 [00:06<00:00, 13652.07it/s]\n"
     ]
    },
    {
     "name": "stdout",
     "output_type": "stream",
     "text": [
      "Train | RMSE=0.850 | MAE=0.652 ||| Test | RMSE=1.101 | MAE=0.824\n"
     ]
    },
    {
     "name": "stderr",
     "output_type": "stream",
     "text": [
      "Epoch 19: 100%|██████████| 85709/85709 [00:06<00:00, 13873.70it/s]\n"
     ]
    },
    {
     "name": "stdout",
     "output_type": "stream",
     "text": [
      "Train | RMSE=0.841 | MAE=0.645 ||| Test | RMSE=1.097 | MAE=0.821\n"
     ]
    },
    {
     "name": "stderr",
     "output_type": "stream",
     "text": [
      "Epoch 20: 100%|██████████| 85709/85709 [00:05<00:00, 14349.13it/s]\n"
     ]
    },
    {
     "name": "stdout",
     "output_type": "stream",
     "text": [
      "Train | RMSE=0.836 | MAE=0.642 ||| Test | RMSE=1.094 | MAE=0.819\n"
     ]
    },
    {
     "name": "stderr",
     "output_type": "stream",
     "text": [
      "Epoch 21: 100%|██████████| 85709/85709 [00:06<00:00, 14026.58it/s]\n"
     ]
    },
    {
     "name": "stdout",
     "output_type": "stream",
     "text": [
      "Train | RMSE=0.829 | MAE=0.636 ||| Test | RMSE=1.093 | MAE=0.816\n"
     ]
    },
    {
     "name": "stderr",
     "output_type": "stream",
     "text": [
      "Epoch 22: 100%|██████████| 85709/85709 [00:06<00:00, 14268.78it/s]\n"
     ]
    },
    {
     "name": "stdout",
     "output_type": "stream",
     "text": [
      "Train | RMSE=0.823 | MAE=0.632 ||| Test | RMSE=1.089 | MAE=0.814\n"
     ]
    },
    {
     "name": "stderr",
     "output_type": "stream",
     "text": [
      "Epoch 23: 100%|██████████| 85709/85709 [00:06<00:00, 13943.34it/s]\n"
     ]
    },
    {
     "name": "stdout",
     "output_type": "stream",
     "text": [
      "Train | RMSE=0.817 | MAE=0.627 ||| Test | RMSE=1.086 | MAE=0.810\n"
     ]
    },
    {
     "name": "stderr",
     "output_type": "stream",
     "text": [
      "Epoch 24: 100%|██████████| 85709/85709 [00:06<00:00, 14025.39it/s]\n"
     ]
    },
    {
     "name": "stdout",
     "output_type": "stream",
     "text": [
      "Train | RMSE=0.812 | MAE=0.623 ||| Test | RMSE=1.085 | MAE=0.809\n"
     ]
    },
    {
     "name": "stderr",
     "output_type": "stream",
     "text": [
      "Epoch 25: 100%|██████████| 85709/85709 [00:06<00:00, 14252.17it/s]\n"
     ]
    },
    {
     "name": "stdout",
     "output_type": "stream",
     "text": [
      "Train | RMSE=0.807 | MAE=0.620 ||| Test | RMSE=1.085 | MAE=0.810\n"
     ]
    },
    {
     "name": "stderr",
     "output_type": "stream",
     "text": [
      "Epoch 26: 100%|██████████| 85709/85709 [00:05<00:00, 14336.28it/s]\n"
     ]
    },
    {
     "name": "stdout",
     "output_type": "stream",
     "text": [
      "Train | RMSE=0.802 | MAE=0.617 ||| Test | RMSE=1.082 | MAE=0.807\n"
     ]
    },
    {
     "name": "stderr",
     "output_type": "stream",
     "text": [
      "Epoch 27: 100%|██████████| 85709/85709 [00:06<00:00, 13669.48it/s]\n"
     ]
    },
    {
     "name": "stdout",
     "output_type": "stream",
     "text": [
      "Train | RMSE=0.797 | MAE=0.612 ||| Test | RMSE=1.082 | MAE=0.807\n"
     ]
    },
    {
     "name": "stderr",
     "output_type": "stream",
     "text": [
      "Epoch 28: 100%|██████████| 85709/85709 [00:05<00:00, 14428.19it/s]\n"
     ]
    },
    {
     "name": "stdout",
     "output_type": "stream",
     "text": [
      "Train | RMSE=0.793 | MAE=0.609 ||| Test | RMSE=1.082 | MAE=0.808\n"
     ]
    },
    {
     "name": "stderr",
     "output_type": "stream",
     "text": [
      "Epoch 29: 100%|██████████| 85709/85709 [00:06<00:00, 13864.57it/s]\n"
     ]
    },
    {
     "name": "stdout",
     "output_type": "stream",
     "text": [
      "Train | RMSE=0.789 | MAE=0.606 ||| Test | RMSE=1.081 | MAE=0.806\n"
     ]
    },
    {
     "name": "stderr",
     "output_type": "stream",
     "text": [
      "Epoch 30: 100%|██████████| 85709/85709 [00:06<00:00, 13520.76it/s]\n"
     ]
    },
    {
     "name": "stdout",
     "output_type": "stream",
     "text": [
      "Train | RMSE=0.784 | MAE=0.603 ||| Test | RMSE=1.079 | MAE=0.803\n"
     ]
    }
   ],
   "source": [
    "logged_metrics = model.fit(train_data=data_train, test_data=data_test, epochs=30)"
   ]
  },
  {
   "cell_type": "code",
   "execution_count": 8,
   "metadata": {},
   "outputs": [
    {
     "data": {
      "text/plain": [
       "12.456166999999999"
      ]
     },
     "execution_count": 8,
     "metadata": {},
     "output_type": "execute_result"
    }
   ],
   "source": [
    "logged_metrics[\"fitting_time_ms\"] / 1000"
   ]
  },
  {
   "cell_type": "code",
   "execution_count": 9,
   "metadata": {},
   "outputs": [
    {
     "data": {
      "text/plain": [
       "<matplotlib.legend.Legend at 0x7644d7cf9f40>"
      ]
     },
     "execution_count": 9,
     "metadata": {},
     "output_type": "execute_result"
    },
    {
     "data": {
      "image/png": "[encoded data removed]",
      "text/plain": [
       "<Figure size 800x300 with 2 Axes>"
      ]
     },
     "metadata": {},
     "output_type": "display_data"
    }
   ],
   "source": [
    "fig, axes = plt.subplots(1, 2, figsize=(8, 3))\n",
    "\n",
    "axes[0].plot(logged_metrics[\"train_rmse\"], 'r', label='train')\n",
    "axes[0].plot(logged_metrics[\"eval_rmse\"], 'b', label='eval')\n",
    "axes[0].set_title(\"RMSE\")\n",
    "axes[0].legend()\n",
    "\n",
    "axes[1].plot(logged_metrics[\"train_mae\"], 'r', label='train')\n",
    "axes[1].plot(logged_metrics[\"eval_mae\"], 'b', label='eval')\n",
    "axes[1].set_title(\"MAE\")\n",
    "axes[1].legend()"
   ]
  },
  {
   "cell_type": "code",
   "execution_count": 10,
   "metadata": {},
   "outputs": [],
   "source": [
    "from surprise import Dataset, Reader, SVD\n",
    "from surprise.model_selection import cross_validate\n",
    "\n",
    "reader = Reader(line_format=\"user item rating timestamp\", sep=\",\")\n",
    "data = Dataset.load_from_file(\"../assets/ratings.csv\", reader=reader)"
   ]
  },
  {
   "cell_type": "code",
   "execution_count": 11,
   "metadata": {},
   "outputs": [
    {
     "name": "stdout",
     "output_type": "stream",
     "text": [
      "Surprise Library with Cross-validation:\n",
      "Evaluating RMSE, MAE of algorithm SVD on 5 split(s).\n",
      "\n",
      "                  Fold 1  Fold 2  Fold 3  Fold 4  Fold 5  Mean    Std     \n",
      "RMSE (testset)    0.8693  0.8775  0.8794  0.8745  0.8683  0.8738  0.0044  \n",
      "MAE (testset)     0.6676  0.6724  0.6735  0.6746  0.6671  0.6710  0.0031  \n",
      "Fit time          1.03    1.12    1.04    1.04    1.02    1.05    0.03    \n",
      "Test time         0.10    0.17    0.10    0.17    0.09    0.13    0.04    \n"
     ]
    }
   ],
   "source": [
    "print(\"Surprise Library with Cross-validation:\")\n",
    "surprise_metrics_dict = cross_validate(SVD(), data, verbose=True)"
   ]
  },
  {
   "cell_type": "code",
   "execution_count": 12,
   "metadata": {},
   "outputs": [
    {
     "name": "stdout",
     "output_type": "stream",
     "text": [
      "Custom: RMSE = 1.0790, MAE = 0.8029\n",
      "fit time = 12.456 s, test time = 778.735 ms\n"
     ]
    }
   ],
   "source": [
    "t1 = time.now()\n",
    "rmse, mae = model.eval(data_test)\n",
    "t2 = time.now()\n",
    "print(f\"Custom: RMSE = {rmse:.4f}, MAE = {mae:.4f}\" \n",
    "      f\"\\nfit time = {logged_metrics[\"fitting_time_ms\"] / 1000:.3f} s, test time = {(t2-t1).microseconds/1000:.3f} ms\")"
   ]
  },
  {
   "cell_type": "code",
   "execution_count": null,
   "metadata": {},
   "outputs": [],
   "source": []
  }
 ],
 "metadata": {
  "kernelspec": {
   "display_name": "mla",
   "language": "python",
   "name": "python3"
  },
  "language_info": {
   "codemirror_mode": {
    "name": "ipython",
    "version": 3
   },
   "file_extension": ".py",
   "mimetype": "text/x-python",
   "name": "python",
   "nbconvert_exporter": "python",
   "pygments_lexer": "ipython3",
   "version": "3.12.3"
  }
 },
 "nbformat": 4,
 "nbformat_minor": 2
}
