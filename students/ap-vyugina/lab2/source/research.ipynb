{
 "cells": [
  {
   "cell_type": "code",
   "execution_count": null,
   "metadata": {},
   "outputs": [],
   "source": [
    "import copy\n",
    "from datetime import datetime as time\n",
    "\n",
    "import matplotlib.pyplot as plt\n",
    "import numpy as np\n",
    "import pandas as pd\n",
    "from gradient_boosting import (GradientBoostingRegressor,\n",
    "                               StochasticGradientBoostingRegressor)\n",
    "from sklearn.ensemble import \\\n",
    "    GradientBoostingRegressor as SklearnGradientBoostingRegressor\n",
    "from sklearn.metrics import r2_score\n",
    "from sklearn.model_selection import train_test_split"
   ]
  },
  {
   "cell_type": "code",
   "execution_count": 2,
   "metadata": {},
   "outputs": [],
   "source": [
    "%reload_ext autoreload\n",
    "%autoreload 2"
   ]
  },
  {
   "cell_type": "code",
   "execution_count": 3,
   "metadata": {},
   "outputs": [
    {
     "data": {
      "text/html": [
       "<div>\n",
       "<style scoped>\n",
       "    .dataframe tbody tr th:only-of-type {\n",
       "        vertical-align: middle;\n",
       "    }\n",
       "\n",
       "    .dataframe tbody tr th {\n",
       "        vertical-align: top;\n",
       "    }\n",
       "\n",
       "    .dataframe thead th {\n",
       "        text-align: right;\n",
       "    }\n",
       "</style>\n",
       "<table border=\"1\" class=\"dataframe\">\n",
       "  <thead>\n",
       "    <tr style=\"text-align: right;\">\n",
       "      <th></th>\n",
       "      <th>mpg</th>\n",
       "      <th>cylinders</th>\n",
       "      <th>displacement</th>\n",
       "      <th>horsepower</th>\n",
       "      <th>weight</th>\n",
       "      <th>acceleration</th>\n",
       "      <th>model year</th>\n",
       "    </tr>\n",
       "  </thead>\n",
       "  <tbody>\n",
       "    <tr>\n",
       "      <th>0</th>\n",
       "      <td>18.0</td>\n",
       "      <td>8</td>\n",
       "      <td>307.0</td>\n",
       "      <td>130</td>\n",
       "      <td>3504</td>\n",
       "      <td>12.0</td>\n",
       "      <td>70</td>\n",
       "    </tr>\n",
       "    <tr>\n",
       "      <th>1</th>\n",
       "      <td>15.0</td>\n",
       "      <td>8</td>\n",
       "      <td>350.0</td>\n",
       "      <td>165</td>\n",
       "      <td>3693</td>\n",
       "      <td>11.5</td>\n",
       "      <td>70</td>\n",
       "    </tr>\n",
       "    <tr>\n",
       "      <th>2</th>\n",
       "      <td>18.0</td>\n",
       "      <td>8</td>\n",
       "      <td>318.0</td>\n",
       "      <td>150</td>\n",
       "      <td>3436</td>\n",
       "      <td>11.0</td>\n",
       "      <td>70</td>\n",
       "    </tr>\n",
       "    <tr>\n",
       "      <th>3</th>\n",
       "      <td>16.0</td>\n",
       "      <td>8</td>\n",
       "      <td>304.0</td>\n",
       "      <td>150</td>\n",
       "      <td>3433</td>\n",
       "      <td>12.0</td>\n",
       "      <td>70</td>\n",
       "    </tr>\n",
       "    <tr>\n",
       "      <th>4</th>\n",
       "      <td>17.0</td>\n",
       "      <td>8</td>\n",
       "      <td>302.0</td>\n",
       "      <td>140</td>\n",
       "      <td>3449</td>\n",
       "      <td>10.5</td>\n",
       "      <td>70</td>\n",
       "    </tr>\n",
       "  </tbody>\n",
       "</table>\n",
       "</div>"
      ],
      "text/plain": [
       "    mpg  cylinders  displacement  horsepower  weight  acceleration  model year\n",
       "0  18.0          8         307.0         130    3504          12.0          70\n",
       "1  15.0          8         350.0         165    3693          11.5          70\n",
       "2  18.0          8         318.0         150    3436          11.0          70\n",
       "3  16.0          8         304.0         150    3433          12.0          70\n",
       "4  17.0          8         302.0         140    3449          10.5          70"
      ]
     },
     "execution_count": 3,
     "metadata": {},
     "output_type": "execute_result"
    }
   ],
   "source": [
    "data = pd.read_csv(\"../assets/auto-mpg.csv\") # mpg - расход топлива (miles per gallon)\n",
    "\n",
    "data = data.drop([\"car name\", \"origin\"], axis=1)\n",
    "\n",
    "data[\"horsepower\"] = data[\"horsepower\"].replace({\"?\": np.nan}).astype(np.float32)\n",
    "mean_hp = np.nanmean(data[\"horsepower\"])\n",
    "data[\"horsepower\"] = data[\"horsepower\"].fillna(mean_hp).astype(np.uint16)\n",
    "\n",
    "data.head()"
   ]
  },
  {
   "cell_type": "code",
   "execution_count": 4,
   "metadata": {},
   "outputs": [
    {
     "data": {
      "text/plain": [
       "((318, 6), (80, 6))"
      ]
     },
     "execution_count": 4,
     "metadata": {},
     "output_type": "execute_result"
    }
   ],
   "source": [
    "y = data[[\"mpg\"]].to_numpy().ravel()\n",
    "X = data.drop([\"mpg\"], axis=1).to_numpy()\n",
    "\n",
    "X_train, X_test, y_train, y_test = train_test_split(X, y, test_size=0.2)\n",
    "X_train.shape, X_test.shape"
   ]
  },
  {
   "cell_type": "code",
   "execution_count": 27,
   "metadata": {},
   "outputs": [
    {
     "data": {
      "text/plain": [
       "(318,)"
      ]
     },
     "execution_count": 27,
     "metadata": {},
     "output_type": "execute_result"
    }
   ],
   "source": [
    "y_train.shape"
   ]
  },
  {
   "cell_type": "markdown",
   "metadata": {},
   "source": [
    "## custom"
   ]
  },
  {
   "cell_type": "code",
   "execution_count": 310,
   "metadata": {},
   "outputs": [],
   "source": [
    "def loss(y_true, y_pred):\n",
    "    return 1/(len(y_true)) * 0.5 * np.sum(np.square(y_true-y_pred))\n",
    "\n",
    "def grad(y_true, y_pred):\n",
    "    return - (y_true - y_pred)"
   ]
  },
  {
   "cell_type": "code",
   "execution_count": 325,
   "metadata": {},
   "outputs": [
    {
     "name": "stdout",
     "output_type": "stream",
     "text": [
      "Number of iterations: 187\n",
      "R2-score: 0.86032\n"
     ]
    }
   ],
   "source": [
    "boosting_model = GradientBoostingRegressor(loss, grad, lr=0.05)\n",
    "\n",
    "t1_custom = time.now()\n",
    "boosting_model.fit(X_train, y_train.reshape(-1, 1))\n",
    "t2_custom = time.now()\n",
    "\n",
    "y_pred = boosting_model.predict(X_test)\n",
    "print(f\"Number of iterations: {boosting_model.num_iterations}\")\n",
    "print(f\"R2-score: {r2_score(y_test, y_pred):.5f}\")"
   ]
  },
  {
   "cell_type": "code",
   "execution_count": 330,
   "metadata": {},
   "outputs": [
    {
     "name": "stdout",
     "output_type": "stream",
     "text": [
      "Number of iterations: 237\n",
      "R2-score: 0.87198\n"
     ]
    }
   ],
   "source": [
    "stochastic_model = StochasticGradientBoostingRegressor(loss, grad, lr=0.05)\n",
    "\n",
    "t1_stoch = time.now()\n",
    "stochastic_model.fit(X_train, y_train.reshape(-1, 1))\n",
    "t2_stoch = time.now()\n",
    "\n",
    "y_pred = stochastic_model.predict(X_test)\n",
    "print(f\"Number of iterations: {stochastic_model.num_iterations}\")\n",
    "print(f\"R2-score: {r2_score(y_test, y_pred):.5f}\")"
   ]
  },
  {
   "cell_type": "markdown",
   "metadata": {},
   "source": [
    "## sklearn"
   ]
  },
  {
   "cell_type": "code",
   "execution_count": 331,
   "metadata": {},
   "outputs": [
    {
     "data": {
      "text/plain": [
       "0.8802988842745222"
      ]
     },
     "execution_count": 331,
     "metadata": {},
     "output_type": "execute_result"
    }
   ],
   "source": [
    "sklearn_model = SklearnGradientBoostingRegressor(n_estimators=1000, n_iter_no_change=5)\n",
    "t1_sklearn = time.now()\n",
    "sklearn_model.fit(X_train, y_train)\n",
    "t2_sklearn = time.now()\n",
    "\n",
    "y_pred_sk = sklearn_model.predict(X_test)\n",
    "r2_score(y_test, y_pred_sk)"
   ]
  },
  {
   "cell_type": "markdown",
   "metadata": {},
   "source": [
    "## compare"
   ]
  },
  {
   "cell_type": "code",
   "execution_count": 332,
   "metadata": {},
   "outputs": [
    {
     "data": {
      "image/png": "[encoded data removed]",
      "text/plain": [
       "<Figure size 640x480 with 1 Axes>"
      ]
     },
     "metadata": {},
     "output_type": "display_data"
    }
   ],
   "source": [
    "plt.plot(boosting_model.losses, c='red', label=\"Custom Gradient Boosting\")\n",
    "plt.plot(stochastic_model.losses, c='blue', label='Custom Stochastic GB')\n",
    "\n",
    "plt.plot(sklearn_model.train_score_, c='green', label='Sklearn Gradient Boosting')\n",
    "plt.legend()\n",
    "plt.ylabel(\"MSE\")\n",
    "plt.xlabel(\"n_iter\")\n",
    "plt.title(\"Loss function\")\n",
    "\n",
    "plt.savefig(\"../assets/loss_func.png\", bbox_inches=\"tight\")"
   ]
  },
  {
   "cell_type": "code",
   "execution_count": 314,
   "metadata": {},
   "outputs": [
    {
     "name": "stdout",
     "output_type": "stream",
     "text": [
      "Время, затраченное кастомным алгоритмом на 187 итераций: 341.009 мс\n",
      "Время, затраченное кастомным стохастическим алгоритмом на 199 итераций: 482.992 мс\n",
      "Время, затраченное Sklearn алгоритмом на 56 итераций: 87.965 мс\n"
     ]
    }
   ],
   "source": [
    "print(f\"Время, затраченное кастомным алгоритмом на {boosting_model.num_iterations} итераций: {(t2_custom - t1_custom).microseconds / 1000:.3f} мс\")\n",
    "print(f\"Время, затраченное кастомным стохастическим алгоритмом на {stochastic_model.num_iterations} итераций: {(t2_stoch - t1_stoch).microseconds / 1000:.3f} мс\")\n",
    "print(f\"Время, затраченное Sklearn алгоритмом на {sklearn_model.n_estimators_} итераций: {(t2_sklearn - t1_sklearn).microseconds / 1000:.3f} мс\")"
   ]
  },
  {
   "cell_type": "code",
   "execution_count": 315,
   "metadata": {},
   "outputs": [],
   "source": [
    "def cross_validate(model, X, y, n_folds=5):\n",
    "    scores = []\n",
    "    for n in range(n_folds):\n",
    "        model2fit = copy.deepcopy(model)\n",
    "        X_train, X_test, y_train, y_test = train_test_split(X, y, test_size=0.2)\n",
    "        model2fit.fit(X_train, y_train)\n",
    "        scores += [r2_score(y_test, model2fit.predict(X_test))]\n",
    "    return scores"
   ]
  },
  {
   "cell_type": "code",
   "execution_count": 322,
   "metadata": {},
   "outputs": [],
   "source": [
    "n_folds = 20\n",
    "\n",
    "boosting_model = GradientBoostingRegressor(loss, grad, lr=0.05, max_depth=3)\n",
    "stochastic_model = StochasticGradientBoostingRegressor(loss, grad, lr=0.05, max_depth=3)\n",
    "sklearn_model = SklearnGradientBoostingRegressor(n_estimators=1000, n_iter_no_change=5)\n",
    "\n",
    "custom_scores = cross_validate(boosting_model, X, y, n_folds=n_folds)\n",
    "stochastic_scores = cross_validate(stochastic_model, X, y, n_folds=n_folds)\n",
    "sklearn_scores = cross_validate(sklearn_model, X, y, n_folds=n_folds)"
   ]
  },
  {
   "cell_type": "code",
   "execution_count": 323,
   "metadata": {},
   "outputs": [
    {
     "name": "stdout",
     "output_type": "stream",
     "text": [
      "Среднее R2-score для 20 выборок у кастомного алгоритма: 0.847\n",
      "Среднее R2-score для 20 выборок у стохастического алгоритма: 0.840\n",
      "Среднее R2-score для 20 выборок у Sklearn алгоритма: 0.855\n"
     ]
    }
   ],
   "source": [
    "print(f\"Среднее R2-score для {n_folds} выборок у кастомного алгоритма: {np.mean(custom_scores):.3f}\")\n",
    "print(f\"Среднее R2-score для {n_folds} выборок у стохастического алгоритма: {np.mean(stochastic_scores):.3f}\")\n",
    "print(f\"Среднее R2-score для {n_folds} выборок у Sklearn алгоритма: {np.mean(sklearn_scores):.3f}\")"
   ]
  },
  {
   "cell_type": "code",
   "execution_count": 324,
   "metadata": {},
   "outputs": [
    {
     "data": {
      "text/plain": [
       "[0.8842940260581705,\n",
       " 0.8784022717874795,\n",
       " 0.8582061047058284,\n",
       " 0.7985721155071026,\n",
       " 0.863394704862447,\n",
       " 0.8003241689523697,\n",
       " 0.8748219213611524,\n",
       " 0.8739386333681799,\n",
       " 0.7864375568110682,\n",
       " 0.8325783696328637,\n",
       " 0.8594851567140545,\n",
       " 0.8630764089566116,\n",
       " 0.7856624653810834,\n",
       " 0.8328636786522955,\n",
       " 0.7651241874268967,\n",
       " 0.8765382676330642,\n",
       " 0.8208672405502134,\n",
       " 0.8581631204300706,\n",
       " 0.8535736743950046,\n",
       " 0.8242470474094791]"
      ]
     },
     "execution_count": 324,
     "metadata": {},
     "output_type": "execute_result"
    }
   ],
   "source": [
    "stochastic_scores"
   ]
  },
  {
   "cell_type": "code",
   "execution_count": null,
   "metadata": {},
   "outputs": [],
   "source": []
  }
 ],
 "metadata": {
  "kernelspec": {
   "display_name": "env3.10",
   "language": "python",
   "name": "python3"
  },
  "language_info": {
   "codemirror_mode": {
    "name": "ipython",
    "version": 3
   },
   "file_extension": ".py",
   "mimetype": "text/x-python",
   "name": "python",
   "nbconvert_exporter": "python",
   "pygments_lexer": "ipython3",
   "version": "3.10.15"
  }
 },
 "nbformat": 4,
 "nbformat_minor": 2
}
