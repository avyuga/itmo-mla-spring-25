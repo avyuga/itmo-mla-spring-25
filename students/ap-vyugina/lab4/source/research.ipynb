{
 "cells": [
  {
   "cell_type": "code",
   "execution_count": 1,
   "metadata": {},
   "outputs": [],
   "source": [
    "%reload_ext autoreload\n",
    "%autoreload 2"
   ]
  },
  {
   "cell_type": "code",
   "execution_count": null,
   "metadata": {},
   "outputs": [],
   "source": [
    "import time\n",
    "import gensim\n",
    "from coherence import calculate_lda_coherence\n",
    "from gensim import corpora\n",
    "from sklearn.feature_extraction.text import CountVectorizer"
   ]
  },
  {
   "cell_type": "markdown",
   "metadata": {},
   "source": [
    "### 20 News Groups Dataset"
   ]
  },
  {
   "cell_type": "code",
   "execution_count": 3,
   "metadata": {},
   "outputs": [
    {
     "name": "stdout",
     "output_type": "stream",
     "text": [
      "Loading dataset...\n"
     ]
    },
    {
     "data": {
      "text/plain": [
       "<1000x50 sparse matrix of type '<class 'numpy.int64'>'\n",
       "\twith 5087 stored elements in Compressed Sparse Row format>"
      ]
     },
     "execution_count": 3,
     "metadata": {},
     "output_type": "execute_result"
    }
   ],
   "source": [
    "from sklearn.datasets import fetch_20newsgroups\n",
    "\n",
    "print(\"Loading dataset...\")\n",
    "data, _ = fetch_20newsgroups(\n",
    "    shuffle=True,\n",
    "    random_state=1,\n",
    "    remove=(\"headers\", \"footers\", \"quotes\"),\n",
    "    return_X_y=True,\n",
    ")\n",
    "data_samples = data[:1000]\n",
    "cleaned_docs_by_words = [doc.split() for doc in data_samples]\n",
    "\n",
    "n_topics = 20\n",
    "vectorizer = CountVectorizer(\n",
    "    max_df=0.95, min_df=2, max_features=50, stop_words=\"english\"\n",
    ")\n",
    "tf = vectorizer.fit_transform(data_samples)\n",
    "tf"
   ]
  },
  {
   "cell_type": "markdown",
   "metadata": {},
   "source": [
    "### Custom LDA"
   ]
  },
  {
   "cell_type": "code",
   "execution_count": 4,
   "metadata": {},
   "outputs": [
    {
     "name": "stderr",
     "output_type": "stream",
     "text": [
      "/home/anastasia/DATA/itmo-mla-spring-25/students/ap-vyugina/lab4/source/lda.py:9: RuntimeWarning: invalid value encountered in divide\n",
      "  return array / np.sum(array, axis=axis, keepdims=True)\n"
     ]
    },
    {
     "name": "stdout",
     "output_type": "stream",
     "text": [
      "Iter 1: 2.4237\n",
      "Iter 2: 2.4079\n",
      "Iter 3: 2.6024\n",
      "Iter 4: 2.6783\n",
      "Iter 5: 2.6667\n",
      "Iter 6: 2.6229\n",
      "Iter 7: 2.5630\n",
      "Iter 8: 2.4226\n",
      "Iter 9: 2.2576\n",
      "Iter 10: 2.1028\n",
      "Iter 11: 1.9303\n",
      "Iter 12: 1.7188\n",
      "Iter 13: 1.5812\n",
      "Iter 14: 1.4840\n",
      "Iter 15: 1.3898\n",
      "Iter 16: 1.2856\n",
      "Iter 17: 1.1831\n",
      "Iter 18: 1.0983\n",
      "Iter 19: 1.0133\n",
      "Iter 20: 0.9259\n",
      "Iter 21: 0.8306\n",
      "Iter 22: 0.7314\n",
      "Iter 23: 0.6318\n",
      "Iter 24: 0.5427\n",
      "Iter 25: 0.4756\n",
      "Iter 26: 0.4295\n",
      "Iter 27: 0.4066\n",
      "Iter 28: 0.3960\n",
      "Iter 29: 0.3752\n",
      "Iter 30: 0.3116\n",
      "Iter 31: 0.2375\n",
      "Iter 32: 0.1877\n",
      "Iter 33: 0.1560\n",
      "Iter 34: 0.1321\n",
      "Iter 35: 0.1127\n",
      "Iter 36: 0.0978\n",
      "Iter 37: 0.0882\n",
      "Iter 38: 0.0825\n",
      "Iter 39: 0.0796\n",
      "Iter 40: 0.0795\n",
      "Iter 41: 0.0812\n",
      "Iter 42: 0.0846\n",
      "Iter 43: 0.0885\n",
      "Iter 44: 0.0913\n",
      "Iter 45: 0.0900\n",
      "Iter 46: 0.0849\n",
      "Iter 47: 0.0788\n",
      "Iter 48: 0.0727\n",
      "Iter 49: 0.0667\n",
      "Iter 50: 0.0614\n",
      "Iter 51: 0.0572\n",
      "Iter 52: 0.0536\n",
      "Iter 53: 0.0500\n",
      "Iter 54: 0.0464\n",
      "Fitting Time: 212.270 s\n"
     ]
    }
   ],
   "source": [
    "from lda import LDA\n",
    "\n",
    "lda = LDA(n_topics=n_topics, alpha=1.1, beta=1.1, max_iter=100)\n",
    "\n",
    "t1 = time.time()\n",
    "lda.fit(tf)\n",
    "t2 = time.time()\n",
    "print(f\"Fitting Time: {(t2-t1):.3f} s\")"
   ]
  },
  {
   "cell_type": "code",
   "execution_count": 5,
   "metadata": {},
   "outputs": [
    {
     "data": {
      "text/plain": [
       "0.372149434718127"
      ]
     },
     "execution_count": 5,
     "metadata": {},
     "output_type": "execute_result"
    }
   ],
   "source": [
    "coherence_score = calculate_lda_coherence(\n",
    "    topic_word_distribution=lda.phi_wt.T,\n",
    "    texts=cleaned_docs_by_words,  \n",
    "    feature_names=vectorizer.get_feature_names_out(),\n",
    "    n_words=50,\n",
    "    n_topics=n_topics\n",
    ")\n",
    "\n",
    "coherence_score"
   ]
  },
  {
   "cell_type": "markdown",
   "metadata": {},
   "source": [
    "### Gensim LDA"
   ]
  },
  {
   "cell_type": "code",
   "execution_count": 6,
   "metadata": {},
   "outputs": [],
   "source": [
    "dictionary = corpora.Dictionary(cleaned_docs_by_words)\n",
    "corpus = [dictionary.doc2bow(doc) for doc in cleaned_docs_by_words]"
   ]
  },
  {
   "cell_type": "code",
   "execution_count": 7,
   "metadata": {},
   "outputs": [
    {
     "name": "stdout",
     "output_type": "stream",
     "text": [
      "Fitting time: 8.703 s\n"
     ]
    }
   ],
   "source": [
    "t1 = time.time()\n",
    "lda_model = gensim.models.LdaModel(\n",
    "    corpus=corpus, \n",
    "    id2word=dictionary, \n",
    "    num_topics=n_topics\n",
    ")\n",
    "t2 = time.time()\n",
    "print(f\"Fitting time: {(t2-t1):.3f} s\")"
   ]
  },
  {
   "cell_type": "code",
   "execution_count": 8,
   "metadata": {},
   "outputs": [
    {
     "data": {
      "text/plain": [
       "0.3569362157948577"
      ]
     },
     "execution_count": 8,
     "metadata": {},
     "output_type": "execute_result"
    }
   ],
   "source": [
    "from gensim.models.coherencemodel import CoherenceModel\n",
    "\n",
    "cm = CoherenceModel(\n",
    "    model=lda_model, \n",
    "    texts=cleaned_docs_by_words, \n",
    "    corpus=corpus, \n",
    "    coherence='c_v'\n",
    ")\n",
    "coherence = cm.get_coherence()\n",
    "coherence"
   ]
  },
  {
   "cell_type": "markdown",
   "metadata": {},
   "source": [
    "### Sklearn LDA Model"
   ]
  },
  {
   "cell_type": "code",
   "execution_count": 9,
   "metadata": {},
   "outputs": [],
   "source": [
    "from sklearn.decomposition import LatentDirichletAllocation"
   ]
  },
  {
   "cell_type": "code",
   "execution_count": 10,
   "metadata": {},
   "outputs": [
    {
     "name": "stdout",
     "output_type": "stream",
     "text": [
      "Fitting time: 2.247 s\n"
     ]
    }
   ],
   "source": [
    "lda_sklearn = LatentDirichletAllocation(\n",
    "    n_components=n_topics,\n",
    "    max_iter=20,\n",
    "    learning_method=\"online\",\n",
    "    learning_offset=50.0,\n",
    "    random_state=0,\n",
    ")\n",
    "\n",
    "t1 = time.time()\n",
    "lda_sklearn.fit(tf)\n",
    "t2 = time.time()\n",
    "print(f\"Fitting time: {(t2-t1):.3f} s\")"
   ]
  },
  {
   "cell_type": "code",
   "execution_count": 11,
   "metadata": {},
   "outputs": [
    {
     "data": {
      "text/plain": [
       "0.38795283193956526"
      ]
     },
     "execution_count": 11,
     "metadata": {},
     "output_type": "execute_result"
    }
   ],
   "source": [
    "coherence_score = calculate_lda_coherence(\n",
    "    topic_word_distribution=lda_sklearn.components_,\n",
    "    feature_names=vectorizer.get_feature_names_out(),\n",
    "    texts=cleaned_docs_by_words, \n",
    "    n_words=50,\n",
    "    n_topics=n_topics\n",
    ")\n",
    "coherence_score \n"
   ]
  },
  {
   "cell_type": "code",
   "execution_count": null,
   "metadata": {},
   "outputs": [],
   "source": []
  }
 ],
 "metadata": {
  "kernelspec": {
   "display_name": "mla",
   "language": "python",
   "name": "python3"
  },
  "language_info": {
   "codemirror_mode": {
    "name": "ipython",
    "version": 3
   },
   "file_extension": ".py",
   "mimetype": "text/x-python",
   "name": "python",
   "nbconvert_exporter": "python",
   "pygments_lexer": "ipython3",
   "version": "3.12.3"
  }
 },
 "nbformat": 4,
 "nbformat_minor": 2
}
